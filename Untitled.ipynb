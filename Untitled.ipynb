{
 "cells": [
  {
   "cell_type": "code",
   "execution_count": 46,
   "metadata": {},
   "outputs": [],
   "source": [
    "import sqlite3 as sql\n",
    "import datetime\n"
   ]
  },
  {
   "cell_type": "code",
   "execution_count": 63,
   "metadata": {},
   "outputs": [],
   "source": [
    "################################   insert in view_bill initially    \n",
    "mess = \"West\"          #### North South East West\n",
    "\n",
    "con = sql.connect(\"admin.db\")\n",
    "cur = con.cursor()\n",
    "\n",
    "date = datetime.datetime(2018,8,1,12,4,5)\n",
    "dfrom = date.strftime(\"%d-%m-%Y\")\n",
    "# dateto = datetime.datetime(2018,8,1,12,4,5)\n",
    "date_end = date + datetime.timedelta(days=365)\n",
    "dto = date_end.strftime(\"%d-%m-%Y\")\n",
    "# print(dateto)\n",
    "\n",
    "sqlq = \"select Bill from mess_menu WHERE (mess = '\" + mess +\"')\"\n",
    "# print(sqlq)\n",
    "cur.execute(sqlq)\n",
    "\n",
    "bill = cur.fetchone()\n",
    "# print(bill)\n",
    "\n",
    "cur.execute(\"INSERT INTO view_bill VALUES (?,?,?,?)\",(mess, dfrom,dto,str(bill)))\n",
    "con.commit()\n",
    "con.close()"
   ]
  },
  {
   "cell_type": "code",
   "execution_count": 74,
   "metadata": {},
   "outputs": [
    {
     "name": "stdout",
     "output_type": "stream",
     "text": [
      "01-08-2019\n"
     ]
    },
    {
     "ename": "OperationalError",
     "evalue": "near \"to\": syntax error",
     "output_type": "error",
     "traceback": [
      "\u001b[0;31m---------------------------------------------------------------------------\u001b[0m",
      "\u001b[0;31mOperationalError\u001b[0m                          Traceback (most recent call last)",
      "\u001b[0;32m<ipython-input-74-5682b846e6c8>\u001b[0m in \u001b[0;36m<module>\u001b[0;34m\u001b[0m\n\u001b[1;32m     37\u001b[0m     \u001b[0mx\u001b[0m \u001b[0;34m=\u001b[0m \u001b[0mrow\u001b[0m\u001b[0;34m\u001b[0m\u001b[0m\n\u001b[1;32m     38\u001b[0m \u001b[0msqlq\u001b[0m \u001b[0;34m=\u001b[0m\u001b[0;34m\"UPDATE view_bill SET to = ? WHERE ( x = ? )\"\u001b[0m\u001b[0;34m\u001b[0m\u001b[0m\n\u001b[0;32m---> 39\u001b[0;31m \u001b[0mcur\u001b[0m\u001b[0;34m.\u001b[0m\u001b[0mexecute\u001b[0m\u001b[0;34m(\u001b[0m\u001b[0msqlq\u001b[0m\u001b[0;34m,\u001b[0m\u001b[0;34m(\u001b[0m\u001b[0mtill_date\u001b[0m\u001b[0;34m,\u001b[0m\u001b[0mx\u001b[0m\u001b[0;34m)\u001b[0m\u001b[0;34m)\u001b[0m\u001b[0;34m\u001b[0m\u001b[0m\n\u001b[0m\u001b[1;32m     40\u001b[0m \u001b[0;31m# cur.execute(\"INSERT INTO view_bill VALUES(?,?,?,?)\",mess,n_date,date_end,bill_dic))\u001b[0m\u001b[0;34m\u001b[0m\u001b[0;34m\u001b[0m\u001b[0m\n\u001b[1;32m     41\u001b[0m \u001b[0;34m\u001b[0m\u001b[0m\n",
      "\u001b[0;31mOperationalError\u001b[0m: near \"to\": syntax error"
     ]
    }
   ],
   "source": [
    "############ Update Bill\n",
    "ls = ['breakfast','lunch','snack','dinner']\n",
    "mess = 'North'\n",
    "\n",
    "breakfast_b = '80'        ## request.form['bb']\n",
    "lunch_b = '70'            ## request.form['lb']\n",
    "snack_b = '50'            ## request.form['sb']\n",
    "dinner_b = '60'           ## request.form['db']\n",
    "bill=[breakfast_b,lunch_b,snack_b,dinner_b]  ## for a particular day\n",
    "bill_dict = dict()\n",
    "i=0\n",
    "for a in ls:\n",
    "    bill_dict[a]=bill[i]\n",
    "    i=i+1\n",
    "\n",
    "bill_dic = str(bill_dict)\n",
    "##########################################################\n",
    "date = datetime.datetime(2018,8,1,12,4,5)\n",
    "d_end = date + datetime.timedelta(days=365)\n",
    "ch_date =datetime.datetime.today()\n",
    "date_end = d_end.strftime('%d-%m-%Y')\n",
    "new_date = ch_date + datetime.timedelta(days=1)\n",
    "till_date = ch_date.strftime('%d-%m-%Y')\n",
    "n_date = new_date.strftime('%d-%m-%Y')\n",
    "#########################################################\n",
    "\n",
    "# sqlq =\"UPDATE view_bill SET to = ?,\"+day+\"=? WHERE (Admin = ?)\"\n",
    "# cur.execute(sqlq,(bill_dic,menu_dic,admin))\n",
    "\n",
    "print(date_end)\n",
    "\n",
    "con = sql.connect(\"admin.db\")\n",
    "cur = con.cursor()\n",
    "sqlq = \"select Bill from mess_menu WHERE (mess = '\" + mess +\"')\"\n",
    "cur.execute(sqlq)\n",
    "for row in v:\n",
    "    x = row\n",
    "sqlq =\"UPDATE view_bill SET to = ? WHERE ( x = ? )\"\n",
    "cur.execute(sqlq,(till_date,x))\n",
    "# cur.execute(\"INSERT INTO view_bill VALUES(?,?,?,?)\",mess,n_date,date_end,bill_dic))\n",
    "\n",
    "\n",
    "# con.commit()\n",
    "# con.close()\n",
    "\n",
    "\n"
   ]
  },
  {
   "cell_type": "code",
   "execution_count": 48,
   "metadata": {},
   "outputs": [
    {
     "ename": "IntegrityError",
     "evalue": "UNIQUE constraint failed: mess_menu.Admin",
     "output_type": "error",
     "traceback": [
      "\u001b[0;31m---------------------------------------------------------------------------\u001b[0m",
      "\u001b[0;31mIntegrityError\u001b[0m                            Traceback (most recent call last)",
      "\u001b[0;32m<ipython-input-48-e5d3503015ab>\u001b[0m in \u001b[0;36m<module>\u001b[0;34m\u001b[0m\n\u001b[1;32m     35\u001b[0m \u001b[0mcon\u001b[0m \u001b[0;34m=\u001b[0m \u001b[0msql\u001b[0m\u001b[0;34m.\u001b[0m\u001b[0mconnect\u001b[0m\u001b[0;34m(\u001b[0m\u001b[0;34m\"admin.db\"\u001b[0m\u001b[0;34m)\u001b[0m\u001b[0;34m\u001b[0m\u001b[0m\n\u001b[1;32m     36\u001b[0m \u001b[0mcur\u001b[0m \u001b[0;34m=\u001b[0m \u001b[0mcon\u001b[0m\u001b[0;34m.\u001b[0m\u001b[0mcursor\u001b[0m\u001b[0;34m(\u001b[0m\u001b[0;34m)\u001b[0m\u001b[0;34m\u001b[0m\u001b[0m\n\u001b[0;32m---> 37\u001b[0;31m \u001b[0mcur\u001b[0m\u001b[0;34m.\u001b[0m\u001b[0mexecute\u001b[0m\u001b[0;34m(\u001b[0m\u001b[0;34m\"INSERT INTO mess_menu VALUES (?,?,?,?,?,?,?,?,?,?)\"\u001b[0m\u001b[0;34m,\u001b[0m\u001b[0;34m(\u001b[0m\u001b[0madmin\u001b[0m\u001b[0;34m,\u001b[0m\u001b[0mmess\u001b[0m\u001b[0;34m,\u001b[0m\u001b[0mmenu_dic\u001b[0m\u001b[0;34m,\u001b[0m\u001b[0mmenu_dic\u001b[0m\u001b[0;34m,\u001b[0m\u001b[0mmenu_dic\u001b[0m\u001b[0;34m,\u001b[0m\u001b[0mmenu_dic\u001b[0m\u001b[0;34m,\u001b[0m\u001b[0mmenu_dic\u001b[0m\u001b[0;34m,\u001b[0m\u001b[0mmenu_dic\u001b[0m\u001b[0;34m,\u001b[0m\u001b[0mmenu_dic\u001b[0m\u001b[0;34m,\u001b[0m\u001b[0mbill_dic\u001b[0m\u001b[0;34m)\u001b[0m\u001b[0;34m)\u001b[0m\u001b[0;34m\u001b[0m\u001b[0m\n\u001b[0m\u001b[1;32m     38\u001b[0m \u001b[0;34m\u001b[0m\u001b[0m\n\u001b[1;32m     39\u001b[0m \u001b[0;34m\u001b[0m\u001b[0m\n",
      "\u001b[0;31mIntegrityError\u001b[0m: UNIQUE constraint failed: mess_menu.Admin"
     ]
    }
   ],
   "source": []
  },
  {
   "cell_type": "code",
   "execution_count": null,
   "metadata": {},
   "outputs": [],
   "source": []
  }
 ],
 "metadata": {
  "kernelspec": {
   "display_name": "Python 2",
   "language": "python",
   "name": "python2"
  },
  "language_info": {
   "codemirror_mode": {
    "name": "ipython",
    "version": 3
   },
   "file_extension": ".py",
   "mimetype": "text/x-python",
   "name": "python",
   "nbconvert_exporter": "python",
   "pygments_lexer": "ipython3",
   "version": "3.6.6"
  }
 },
 "nbformat": 4,
 "nbformat_minor": 2
}
