{
 "cells": [
  {
   "cell_type": "code",
   "execution_count": 1,
   "metadata": {},
   "outputs": [],
   "source": [
    "import sqlite3 as sql\n",
    "import ast\n"
   ]
  },
  {
   "cell_type": "code",
   "execution_count": 81,
   "metadata": {},
   "outputs": [
    {
     "name": "stdout",
     "output_type": "stream",
     "text": [
      "[['tea,coffee'], ['random,food'], ['as,if'], ['diarreha,hoga']]\n"
     ]
    }
   ],
   "source": [
    "con = sql.connect(\"admin.db\")\n",
    "sqlQuery = \"select * from mess_menu where (mess ='\" + 'North' + \"')\"\n",
    "cur = con.cursor()\n",
    "cur.execute(sqlQuery)\n",
    "row = cur.fetchone()\n",
    "# list_north = [[[]]]\n",
    "\n",
    "###      list[Day][Meals]   Day:: 0->mon, 1->tue ... Meal:: 0->break, 1->lunch, 2->snack, 3->Dinner\n",
    "\n",
    "list_north = [[ [] for col in range(4)] for rows in range(7)]\n",
    "\n",
    "d_m = ast.literal_eval(row[2])\n",
    "d_t = ast.literal_eval(row[3])\n",
    "d_w = ast.literal_eval(row[4])\n",
    "d_th = ast.literal_eval(row[5])\n",
    "d_f = ast.literal_eval(row[6])\n",
    "d_s = ast.literal_eval(row[7])\n",
    "d_su = ast.literal_eval(row[8])\n",
    "\n",
    "list_north[0][0].append(d_m['breakfast'])\n",
    "list_north[0][1].append(d_m['lunch'])\n",
    "list_north[0][2].append(d_m['snack'])\n",
    "list_north[0][3].append(d_m['dinner'])\n",
    "\n",
    "list_north[1][0].append(d_t['breakfast'])\n",
    "list_north[1][1].append(d_t['lunch'])\n",
    "list_north[1][2].append(d_t['snack'])\n",
    "list_north[1][3].append(d_t['dinner'])\n",
    "\n",
    "list_north[2][0].append(d_w['breakfast'])\n",
    "list_north[2][1].append(d_w['lunch'])\n",
    "list_north[2][2].append(d_w['snack'])\n",
    "list_north[2][3].append(d_w['dinner'])\n",
    "\n",
    "list_north[3][0].append(d_th['breakfast'])\n",
    "list_north[3][1].append(d_th['lunch'])\n",
    "list_north[3][2].append(d_th['snack'])\n",
    "list_north[3][3].append(d_th['dinner'])\n",
    "\n",
    "list_north[4][0].append(d_f['breakfast'])\n",
    "list_north[4][1].append(d_f['lunch'])\n",
    "list_north[4][2].append(d_f['snack'])\n",
    "list_north[4][3].append(d_f['dinner'])\n",
    "\n",
    "list_north[5][0].append(d_s['breakfast'])\n",
    "list_north[5][1].append(d_s['lunch'])\n",
    "list_north[5][2].append(d_s['snack'])\n",
    "list_north[5][3].append(d_s['dinner'])\n",
    "\n",
    "list_north[6][0].append(d_su['breakfast'])\n",
    "list_north[6][1].append(d_su['lunch'])\n",
    "list_north[6][2].append(d_su['snack'])\n",
    "list_north[6][3].append(d_su['dinner'])\n",
    "\n",
    "\n",
    "\n",
    "\n",
    "\n"
   ]
  },
  {
   "cell_type": "code",
   "execution_count": 34,
   "metadata": {},
   "outputs": [],
   "source": []
  },
  {
   "cell_type": "code",
   "execution_count": 83,
   "metadata": {},
   "outputs": [
    {
     "name": "stdout",
     "output_type": "stream",
     "text": [
      "[[['tea,coffee,fruits'], ['food,rice'], ['batman,robin'], ['salad,only']], [['tea,coffee'], ['random,food'], ['as,if'], ['diarreha,hoga']], [['tea,coffee'], ['random,food'], ['as,if'], ['diarreha,hoga']], [['tea,coffee'], ['random,food'], ['as,if'], ['diarreha,hoga']], [['tea,coffee'], ['random,food'], ['as,if'], ['diarreha,hoga']], [['tea,coffee'], ['random,food'], ['as,if'], ['diarreha,hoga']], [['tea,coffee'], ['random,food'], ['as,if'], ['diarreha,hoga']]]\n"
     ]
    }
   ],
   "source": [
    "con = sql.connect(\"admin.db\")\n",
    "sqlQuery = \"select * from mess_menu where (mess ='\" + 'South' + \"')\"\n",
    "cur = con.cursor()\n",
    "cur.execute(sqlQuery)\n",
    "row = cur.fetchone()\n",
    "# list_south = [[[]]]\n",
    "\n",
    "###      list[Day][Meals]   Day:: 0->mon, 1->tue ... Meal:: 0->break, 1->lunch, 2->snack, 3->Dinner\n",
    "\n",
    "list_south = [[ [] for col in range(4)] for rows in range(7)]\n",
    "d_m = ast.literal_eval(row[2])\n",
    "d_t = ast.literal_eval(row[3])\n",
    "d_w = ast.literal_eval(row[4])\n",
    "d_th = ast.literal_eval(row[5])\n",
    "d_f = ast.literal_eval(row[6])\n",
    "d_s = ast.literal_eval(row[7])\n",
    "d_su = ast.literal_eval(row[8])\n",
    "list_south[0][0].append(d_m['breakfast'])\n",
    "list_south[0][1].append(d_m['lunch'])\n",
    "list_south[0][2].append(d_m['snack'])\n",
    "list_south[0][3].append(d_m['dinner'])\n",
    "\n",
    "list_south[1][0].append(d_t['breakfast'])\n",
    "list_south[1][1].append(d_t['lunch'])\n",
    "list_south[1][2].append(d_t['snack'])\n",
    "list_south[1][3].append(d_t['dinner'])\n",
    "\n",
    "list_south[2][0].append(d_w['breakfast'])\n",
    "list_south[2][1].append(d_w['lunch'])\n",
    "list_south[2][2].append(d_w['snack'])\n",
    "list_south[2][3].append(d_w['dinner'])\n",
    "\n",
    "list_south[3][0].append(d_th['breakfast'])\n",
    "list_south[3][1].append(d_th['lunch'])\n",
    "list_south[3][2].append(d_th['snack'])\n",
    "list_south[3][3].append(d_th['dinner'])\n",
    "\n",
    "list_south[4][0].append(d_f['breakfast'])\n",
    "list_south[4][1].append(d_f['lunch'])\n",
    "list_south[4][2].append(d_f['snack'])\n",
    "list_south[4][3].append(d_f['dinner'])\n",
    "\n",
    "list_south[5][0].append(d_s['breakfast'])\n",
    "list_south[5][1].append(d_s['lunch'])\n",
    "list_south[5][2].append(d_s['snack'])\n",
    "list_south[5][3].append(d_s['dinner'])\n",
    "\n",
    "list_south[6][0].append(d_su['breakfast'])\n",
    "list_south[6][1].append(d_su['lunch'])\n",
    "list_south[6][2].append(d_su['snack'])\n",
    "list_south[6][3].append(d_su['dinner'])\n",
    "\n",
    "con.close()    \n",
    "\n",
    "print(list_south)"
   ]
  },
  {
   "cell_type": "code",
   "execution_count": null,
   "metadata": {},
   "outputs": [],
   "source": []
  }
 ],
 "metadata": {
  "kernelspec": {
   "display_name": "Python 3",
   "language": "python",
   "name": "python3"
  },
  "language_info": {
   "codemirror_mode": {
    "name": "ipython",
    "version": 3
   },
   "file_extension": ".py",
   "mimetype": "text/x-python",
   "name": "python",
   "nbconvert_exporter": "python",
   "pygments_lexer": "ipython3",
   "version": "3.6.6"
  }
 },
 "nbformat": 4,
 "nbformat_minor": 2
}
