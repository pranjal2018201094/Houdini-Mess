{
 "cells": [
  {
   "cell_type": "code",
   "execution_count": 1,
   "metadata": {},
   "outputs": [],
   "source": [
    "import json\n",
    "import sys\n",
    "import datetime\n",
    "import sqlite3 as sql\n",
    "import ast\n",
    "import datetime\n",
    "import re"
   ]
  },
  {
   "cell_type": "code",
   "execution_count": null,
   "metadata": {},
   "outputs": [],
   "source": [
    "con = sql.connect(\"user.db\")\n",
    "sqlQuery = \"select * from user_info where username = 'zero'\"\n",
    "cursor = con.cursor()\n",
    "cursor.execute(sqlQuery)\n",
    "row = cursor.fetchone()\n",
    "# string to Dictionary\n",
    "dictionary = ast.literal_eval(row[6])\n",
    "y =datetime.datetime.today().strftime('%d-%m-%Y')\n",
    "t = \"title\"\n",
    "st = \"start\"\n",
    "li = [\"T07:00:00-05:00\",\"T12:00:00-05:00\",\"T17:00:00-01:00\",\"T20:00:00-05:00\"]\n",
    "list_json =[]\n",
    "for key, value in dictionary.items():\n",
    "    s = key.split('-')\n",
    "    d = s[2]+'-'+s[1]+'-'+s[0]\n",
    "    x=0\n",
    "    for i in value:\n",
    "        data = {}\n",
    "        data['title'] = i\n",
    "        data['start'] = d+li[x]\n",
    "        x=x+1\n",
    "        list_json.append(json.dumps(data))\n",
    "con.close()\n",
    "line = re.sub(\"'\", \"\", str(list_json))\n",
    "# return Response(json.dumps(list_json),  mimetype='application/json')\n",
    "print(line)\n",
    "with open(\"events.json\",\"w\") as f:\n",
    "    f.write(line)\n",
    "    f.close()"
   ]
  },
  {
   "cell_type": "code",
   "execution_count": null,
   "metadata": {},
   "outputs": [],
   "source": [
    "con = sql.connect(\"admin.db\")\n"
   ]
  }
 ],
 "metadata": {
  "kernelspec": {
   "display_name": "Python 3",
   "language": "python",
   "name": "python3"
  },
  "language_info": {
   "codemirror_mode": {
    "name": "ipython",
    "version": 3
   },
   "file_extension": ".py",
   "mimetype": "text/x-python",
   "name": "python",
   "nbconvert_exporter": "python",
   "pygments_lexer": "ipython3",
   "version": "3.6.6"
  }
 },
 "nbformat": 4,
 "nbformat_minor": 2
}
